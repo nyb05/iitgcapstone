{
  "nbformat": 4,
  "nbformat_minor": 0,
  "metadata": {
    "colab": {
      "provenance": [],
      "authorship_tag": "ABX9TyNj6456PKeKTqUltcop3dSj",
      "include_colab_link": true
    },
    "kernelspec": {
      "name": "python3",
      "display_name": "Python 3"
    },
    "language_info": {
      "name": "python"
    }
  },
  "cells": [
    {
      "cell_type": "markdown",
      "metadata": {
        "id": "view-in-github",
        "colab_type": "text"
      },
      "source": [
        "<a href=\"https://colab.research.google.com/github/nyb05/iitgcapstone/blob/main/iitgcapstonenb.ipynb\" target=\"_parent\"><img src=\"https://colab.research.google.com/assets/colab-badge.svg\" alt=\"Open In Colab\"/></a>"
      ]
    },
    {
      "cell_type": "code",
      "execution_count": null,
      "metadata": {
        "id": "5vUfzrjkmisI"
      },
      "outputs": [],
      "source": [
        "import pandas as pd\n",
        "import numpy as np\n",
        "from geopy.distance import geodesic\n",
        "\n",
        "df = pd.read_csv(\"https://raw.githubusercontent.com/nyb05/iitgcapstone/refs/heads/main/dataset.csv\")\n",
        "df['Timestamp'] = pd.to_datetime(df['LastUpdatedDate'] + ' ' + df['LastUpdatedTime'], format='%d-%m-%Y %H:%M:%S')\n",
        "df = df.sort_values('Timestamp')"
      ]
    },
    {
      "cell_type": "code",
      "source": [
        "lot_df = df[df['SystemCodeNumber'] == 'BHMBCCMKT01'].copy()\n",
        "lot_df['OccupancyRatio'] = lot_df['Occupancy'] / lot_df['Capacity']\n",
        "\n",
        "base_price = 10.0\n",
        "alpha = 2.0\n",
        "\n",
        "prices = [base_price]\n",
        "for ratio in lot_df['OccupancyRatio'].iloc[1:]:\n",
        "    prices.append(prices[-1] + alpha * ratio)\n",
        "\n",
        "lot_df = lot_df.iloc[1:].copy()\n",
        "lot_df['Price_Model1'] = prices[1:]\n"
      ],
      "metadata": {
        "id": "IMZEv2HAozn0"
      },
      "execution_count": null,
      "outputs": []
    },
    {
      "cell_type": "code",
      "source": [
        "lot_df['TrafficConditionNearby'] = lot_df['TrafficConditionNearby'].replace('average', 'medium')\n",
        "\n",
        "vehicle_weights = {'car': 1.0, 'bike': 0.7, 'truck': 1.5}\n",
        "traffic_weights = {'low': 0.5, 'medium': 1.0, 'high': 1.5}\n",
        "lot_df['VehicleTypeWeight'] = lot_df['VehicleType'].map(vehicle_weights)\n",
        "lot_df['TrafficLevel'] = lot_df['TrafficConditionNearby'].map(traffic_weights)\n",
        "\n",
        "α, β, γ, δ, ε = 2.0, 0.5, 1.0, 1.5, 1.0\n",
        "lot_df['Demand'] = (\n",
        "    α * lot_df['OccupancyRatio'] +\n",
        "    β * lot_df['QueueLength'] -\n",
        "    γ * lot_df['TrafficLevel'] +\n",
        "    δ * lot_df['IsSpecialDay'] +\n",
        "    ε * lot_df['VehicleTypeWeight']\n",
        ")\n",
        "\n",
        "min_d, max_d = lot_df['Demand'].min(), lot_df['Demand'].max()\n",
        "lot_df['NormalizedDemand'] = (lot_df['Demand'] - min_d) / (max_d - min_d)\n",
        "\n",
        "λ = 0.75\n",
        "lot_df['Price_Model2'] = base_price * (1 + λ * lot_df['NormalizedDemand'])\n",
        "lot_df['Price_Model2'] = lot_df['Price_Model2'].clip(0.5 * base_price, 2.0 * base_price)"
      ],
      "metadata": {
        "id": "pcws1NKoo1sU"
      },
      "execution_count": null,
      "outputs": []
    },
    {
      "cell_type": "code",
      "source": [
        "timepoint = df['Timestamp'].iloc[100]\n",
        "active_df = df[df['Timestamp'] == timepoint].copy()\n",
        "active_df['OccupancyRatio'] = active_df['Occupancy'] / active_df['Capacity']\n",
        "active_df['Price_Model3'] = base_price + alpha * active_df['OccupancyRatio']\n",
        "\n",
        "target_lot = active_df.iloc[0]\n",
        "target_coords = (target_lot['Latitude'], target_lot['Longitude'])\n",
        "target_price = target_lot['Price_Model3']\n",
        "\n",
        "def competitive_adjustment(row):\n",
        "    dist = geodesic(target_coords, (row['Latitude'], row['Longitude'])).meters\n",
        "    price_diff = row['Price_Model3'] - target_price\n",
        "    if dist < 300 and price_diff < 0:\n",
        "        return target_price - 0.5\n",
        "    elif dist < 300 and price_diff > 1:\n",
        "        return min(target_price + 0.5, 2 * base_price)\n",
        "    else:\n",
        "        return target_price\n",
        "\n",
        "active_df['Price_Model3_Updated'] = active_df.apply(competitive_adjustment, axis=1)\n"
      ],
      "metadata": {
        "id": "XCyU4Z6Lo3bj"
      },
      "execution_count": null,
      "outputs": []
    }
  ]
}